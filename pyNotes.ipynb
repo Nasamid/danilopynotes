{
 "cells": [
  {
   "cell_type": "code",
   "execution_count": 9,
   "id": "359ef13f",
   "metadata": {},
   "outputs": [
    {
     "name": "stdout",
     "output_type": "stream",
     "text": [
      "a is greater than b\n"
     ]
    }
   ],
   "source": [
    "#Conditional Statements\n",
    "a = 1\n",
    "b = 2\n",
    "c = 3\n",
    "\n",
    "#if statement\n",
    "if a < b:\n",
    "\tprint('a is greater than b')\n"
   ]
  },
  {
   "cell_type": "code",
   "execution_count": 8,
   "id": "75a1e0f4",
   "metadata": {},
   "outputs": [
    {
     "name": "stdout",
     "output_type": "stream",
     "text": [
      "b is greater than a\n"
     ]
    }
   ],
   "source": [
    "#if-else statement\n",
    "if a > b:\n",
    "\tprint('a is greater than b')\n",
    "else: \n",
    "    print ('b is greater than a')"
   ]
  },
  {
   "cell_type": "code",
   "execution_count": 10,
   "id": "ce942bfd",
   "metadata": {},
   "outputs": [
    {
     "name": "stdout",
     "output_type": "stream",
     "text": [
      "b is greater than a\n"
     ]
    }
   ],
   "source": [
    "#if-elif-else statement\n",
    "if a > b:\n",
    "    print('a is greater than b')\n",
    "elif b > a:\n",
    "    print('b is greater than a')\n",
    "else: \n",
    "    print('a is equal to b')"
   ]
  },
  {
   "cell_type": "code",
   "execution_count": 13,
   "id": "ea37503f",
   "metadata": {},
   "outputs": [
    {
     "name": "stdout",
     "output_type": "stream",
     "text": [
      "a or b = c\n"
     ]
    }
   ],
   "source": [
    "#using logical operators\n",
    "if a and b == c:\n",
    "    print('a = b = c')\n",
    "elif a or b == c:\n",
    "    print('a or b = c')\n",
    "else:\n",
    "    print('a != b != c')"
   ]
  },
  {
   "cell_type": "code",
   "execution_count": 15,
   "id": "d6283b14",
   "metadata": {},
   "outputs": [
    {
     "name": "stdout",
     "output_type": "stream",
     "text": [
      "item 1 is in list\n"
     ]
    }
   ],
   "source": [
    "#Collecttion Conditional Statement\n",
    "list = ['item1', 'item2', 'item3']\n",
    "\n",
    "if 'item1' in list:\n",
    "    print('item 1 is in list')\n",
    "else:\n",
    "    print('item 1 is not in list')"
   ]
  },
  {
   "cell_type": "code",
   "execution_count": 19,
   "id": "6849833e",
   "metadata": {},
   "outputs": [
    {
     "name": "stdout",
     "output_type": "stream",
     "text": [
      "there are 3 items inside the list\n"
     ]
    }
   ],
   "source": [
    "#while loop in a collection\n",
    "while len(list) == 3:\n",
    "    print('there are 3 items inside the list')\n",
    "    break"
   ]
  },
  {
   "cell_type": "code",
   "execution_count": 20,
   "id": "0433cd2c",
   "metadata": {},
   "outputs": [
    {
     "name": "stdout",
     "output_type": "stream",
     "text": [
      "item1 is in list\n"
     ]
    }
   ],
   "source": [
    "#using break\n",
    "while 'item1' in list:\n",
    "    print('item1 is in list')\n",
    "    break"
   ]
  },
  {
   "cell_type": "code",
   "execution_count": 22,
   "id": "aa0bfe8e",
   "metadata": {},
   "outputs": [
    {
     "name": "stdout",
     "output_type": "stream",
     "text": [
      "Current age: 12\n",
      "Current age: 13\n",
      "Current age: 14\n",
      "Current age: 15\n",
      "Current age: 16\n",
      "Current age: 17\n",
      "Current age: 18\n"
     ]
    }
   ],
   "source": [
    "#while loop with increment\n",
    "age = 12\n",
    "\n",
    "while age <= 18:\n",
    "    print('Current age: ' + str(age))\n",
    "    age = age + 1"
   ]
  },
  {
   "cell_type": "code",
   "execution_count": 25,
   "id": "118df284",
   "metadata": {},
   "outputs": [
    {
     "name": "stdout",
     "output_type": "stream",
     "text": [
      "Current age: 12\n",
      "Current age: 13\n",
      "Current age: 14\n",
      "Current age: 15\n",
      "Current age: 16\n",
      "Current age: 17\n",
      "Current age: 18\n",
      "More than 18, now: 19\n"
     ]
    }
   ],
   "source": [
    "#while with else\n",
    "age = 12\n",
    "while age <= 18:\n",
    "    print('Current age: ' + str(age))\n",
    "    age = age + 1\n",
    "else: \n",
    "    print('More than 18, now: '+ str(age))"
   ]
  },
  {
   "cell_type": "code",
   "execution_count": 27,
   "id": "fb1b2e3f",
   "metadata": {},
   "outputs": [
    {
     "name": "stdout",
     "output_type": "stream",
     "text": [
      "200123\n",
      "200124\n",
      "200125\n",
      "200126\n"
     ]
    }
   ],
   "source": [
    "#while loop in a collection 2\n",
    "studentID = [200123,200124,200125,200126]\n",
    "\n",
    "i = 0\n",
    "\n",
    "while i <= 3:\n",
    "    print (studentID[i])\n",
    "    i = i+1"
   ]
  },
  {
   "cell_type": "code",
   "execution_count": 29,
   "id": "0d71c366",
   "metadata": {},
   "outputs": [
    {
     "name": "stdout",
     "output_type": "stream",
     "text": [
      "do you have a name?yes\n",
      "hello human\n"
     ]
    }
   ],
   "source": [
    "#if in while loop\n",
    "answer = input('do you have a name?')\n",
    "\n",
    "while True:\n",
    "    if answer == 'yes':\n",
    "        print ('hello human')\n",
    "        break\n",
    "    else:\n",
    "        print('hello')\n",
    "        "
   ]
  },
  {
   "cell_type": "code",
   "execution_count": 35,
   "id": "8a4928ef",
   "metadata": {},
   "outputs": [
    {
     "name": "stdout",
     "output_type": "stream",
     "text": [
      "allan\n",
      "allen\n",
      "allin\n",
      "allon\n",
      "allun\n",
      "end of names\n"
     ]
    }
   ],
   "source": [
    "#for loop\n",
    "names = ['allan', 'allen', 'allin', 'allon', 'allun']\n",
    "\n",
    "for i in names:\n",
    "    print (i)\n",
    "else: \n",
    "    print('end of names')"
   ]
  },
  {
   "cell_type": "code",
   "execution_count": 33,
   "id": "dcc19a63",
   "metadata": {},
   "outputs": [
    {
     "name": "stdout",
     "output_type": "stream",
     "text": [
      "allan\n"
     ]
    }
   ],
   "source": [
    "#with break\n",
    "for i in names:\n",
    "    print (i)\n",
    "    break\n",
    "else: \n",
    "    print('end of names')"
   ]
  },
  {
   "cell_type": "code",
   "execution_count": 36,
   "id": "3a0c7451",
   "metadata": {},
   "outputs": [
    {
     "name": "stdout",
     "output_type": "stream",
     "text": [
      "allan\n",
      "allen\n",
      "allin\n"
     ]
    }
   ],
   "source": [
    "#with nested if statement\n",
    "for i in names:\n",
    "    print(i)\n",
    "    if i == 'allin':\n",
    "        break"
   ]
  },
  {
   "cell_type": "code",
   "execution_count": 41,
   "id": "a4858ca8",
   "metadata": {},
   "outputs": [
    {
     "name": "stdout",
     "output_type": "stream",
     "text": [
      "0\n",
      "1\n",
      "2\n",
      "3\n",
      "4\n",
      "5\n",
      "6\n",
      "7\n"
     ]
    }
   ],
   "source": [
    "#range in for loop\n",
    "for i in range (8):\n",
    "    print (i)"
   ]
  },
  {
   "cell_type": "code",
   "execution_count": 42,
   "id": "a3598022",
   "metadata": {},
   "outputs": [
    {
     "name": "stdout",
     "output_type": "stream",
     "text": [
      "1\n",
      "2\n",
      "3\n",
      "4\n"
     ]
    }
   ],
   "source": [
    "for i in range (1,5):\n",
    "    print (i)"
   ]
  },
  {
   "cell_type": "code",
   "execution_count": 7,
   "id": "82ea8718",
   "metadata": {},
   "outputs": [
    {
     "name": "stdout",
     "output_type": "stream",
     "text": [
      "* * * * * \n",
      "* * * * * \n",
      "* * * * * \n",
      "* * * * * \n",
      "* * * * * \n"
     ]
    }
   ],
   "source": [
    "#nested for loop\n",
    "for i in range (5):\n",
    "    for j in range (5):\n",
    "        print(\"*\", end = \" \")\n",
    "    print ()"
   ]
  },
  {
   "cell_type": "code",
   "execution_count": 53,
   "id": "e8410474",
   "metadata": {},
   "outputs": [
    {
     "name": "stdout",
     "output_type": "stream",
     "text": [
      "Cpe\n",
      "allan\n",
      "Me\n",
      "allen\n",
      "Ce\n",
      "allin\n",
      "Ee\n",
      "allon\n"
     ]
    }
   ],
   "source": [
    "#reading multidimensional arrays using for loop\n",
    "list = [['Cpe', 'allan'], ['Me', 'allen'], ['Ce', 'allin'], ['Ee', 'allon']]\n",
    "\n",
    "for i in list:\n",
    "    for j in i:\n",
    "        print(j)"
   ]
  },
  {
   "cell_type": "code",
   "execution_count": 2,
   "id": "fa8e5760",
   "metadata": {},
   "outputs": [
    {
     "name": "stdout",
     "output_type": "stream",
     "text": [
      "1\n",
      "2\n",
      "3\n",
      "4\n",
      "5\n",
      "6\n",
      "7\n",
      "8\n",
      "9\n",
      "10\n"
     ]
    }
   ],
   "source": [
    "#Exercise 1: Print First 10 natural numbers using while loop\n",
    "i=1\n",
    "while i<=10:\n",
    "    print(i)\n",
    "    i = i+1"
   ]
  },
  {
   "cell_type": "code",
   "execution_count": 11,
   "id": "0a8a93ce",
   "metadata": {},
   "outputs": [
    {
     "name": "stdout",
     "output_type": "stream",
     "text": [
      "1 \n",
      "1 2 \n",
      "1 2 3 \n",
      "1 2 3 4 \n",
      "1 2 3 4 5 \n"
     ]
    }
   ],
   "source": [
    "#Exercise 2: Print the following pattern\n",
    "row = 5\n",
    "for i in range (1,row+1):\n",
    "    for j in range (1,i+1):\n",
    "        print (j, end = \" \")\n",
    "    print()"
   ]
  },
  {
   "cell_type": "code",
   "execution_count": 17,
   "id": "7a252269",
   "metadata": {},
   "outputs": [
    {
     "name": "stdout",
     "output_type": "stream",
     "text": [
      "Enter Number: 20\n",
      "Sum: 210\n"
     ]
    }
   ],
   "source": [
    "#Exercise 3: Calculate the sum of all numbers from 1 to a given number\n",
    "num = int(input(\"Enter Number: \"))\n",
    "\n",
    "sum = 0\n",
    "for i in range (1, num+1):\n",
    "\tsum = sum + i\n",
    "\n",
    "print (\"Sum: \" + str(sum))\n",
    "    "
   ]
  },
  {
   "cell_type": "code",
   "execution_count": 21,
   "id": "efe89afa",
   "metadata": {},
   "outputs": [
    {
     "name": "stdout",
     "output_type": "stream",
     "text": [
      "Enter Number: 2\n",
      "2\n",
      "4\n",
      "6\n",
      "8\n",
      "10\n",
      "12\n",
      "14\n",
      "16\n",
      "18\n",
      "20\n"
     ]
    }
   ],
   "source": [
    "#Exercise 4: Write a program to print multiplication table of a given number\n",
    "num = int(input(\"Enter Number: \"))\n",
    "\n",
    "for i in range (num, (num * 10) + num, num):\n",
    "    print(i)"
   ]
  },
  {
   "cell_type": "code",
   "execution_count": 29,
   "id": "9a1536fe",
   "metadata": {},
   "outputs": [
    {
     "name": "stdout",
     "output_type": "stream",
     "text": [
      "75\n",
      "150\n",
      "145\n"
     ]
    }
   ],
   "source": [
    "#Exercise 5: Display numbers from a list using loop\n",
    "numbers = [12, 75, 150, 180, 145, 525, 50]\n",
    "\n",
    "#numbers that are divisble by 5, if greater than 150, skip and move to next number, if greater than 500, stop the loop\n",
    "\n",
    "for i in numbers:\n",
    "    if i > 500:\n",
    "        break\n",
    "    elif i%5 == 0:\n",
    "        if i <= 150:\n",
    "            print(i)\n",
    "            "
   ]
  },
  {
   "cell_type": "code",
   "execution_count": 39,
   "id": "371c79e4",
   "metadata": {},
   "outputs": [
    {
     "name": "stdout",
     "output_type": "stream",
     "text": [
      "5\n"
     ]
    }
   ],
   "source": [
    "#Exercise 6: Count the total number of digits in a number\n",
    "num = 75869\n",
    "count=0\n",
    "\n",
    "while num != 0: \n",
    "    num = num // 10\n",
    "    count = count+1\n",
    "    \n",
    "print(count)"
   ]
  },
  {
   "cell_type": "code",
   "execution_count": 23,
   "id": "5f18d7e7",
   "metadata": {},
   "outputs": [
    {
     "name": "stdout",
     "output_type": "stream",
     "text": [
      "5 4 3 2 1 \n",
      "5 4 3 2 \n",
      "5 4 3 \n",
      "5 4 \n",
      "5 \n"
     ]
    }
   ],
   "source": [
    "#Exercise 7: Print the following pattern\n",
    "row = 5\n",
    "\n",
    "for i in range (1, row+1): \n",
    "    for j in range (row,i-1,-1):\n",
    "        print(j, end = \" \")\n",
    "    print()"
   ]
  },
  {
   "cell_type": "code",
   "execution_count": 3,
   "id": "9f9b4856",
   "metadata": {},
   "outputs": [
    {
     "name": "stdout",
     "output_type": "stream",
     "text": [
      "          * \n",
      "        * * \n",
      "      * * * \n",
      "    * * * * \n",
      "  * * * * * \n"
     ]
    }
   ],
   "source": [
    "#Exercise 8: Print the following pattern\n",
    "row = 5\n",
    "for i in range(1, row+1):\n",
    "    for j in range(i, row+1):\n",
    "        print(\" \", end = \" \")\n",
    "    for j in range(1,i+1):\n",
    "        print(\"*\", end =\" \")\n",
    "    print()"
   ]
  },
  {
   "cell_type": "code",
   "execution_count": 9,
   "id": "70bedf96",
   "metadata": {},
   "outputs": [
    {
     "name": "stdout",
     "output_type": "stream",
     "text": [
      "          * \n",
      "        * * * \n",
      "      * * * * * \n",
      "    * * * * * * * \n",
      "  * * * * * * * * * \n"
     ]
    }
   ],
   "source": [
    "#Exercise 9: Print the following pattern\n",
    "row = 5\n",
    "for i in range(1, row+1):\n",
    "    for j in range(i, row+1):\n",
    "        print(\" \", end = \" \")\n",
    "    for j in range(1,i+1):\n",
    "        print(\"*\", end =\" \")\n",
    "    for j in range(2, i+1):\n",
    "        print(\"*\", end =\" \")\n",
    "    print()"
   ]
  },
  {
   "cell_type": "code",
   "execution_count": null,
   "id": "2050bde0",
   "metadata": {},
   "outputs": [],
   "source": []
  }
 ],
 "metadata": {
  "kernelspec": {
   "display_name": "Python 3 (ipykernel)",
   "language": "python",
   "name": "python3"
  },
  "language_info": {
   "codemirror_mode": {
    "name": "ipython",
    "version": 3
   },
   "file_extension": ".py",
   "mimetype": "text/x-python",
   "name": "python",
   "nbconvert_exporter": "python",
   "pygments_lexer": "ipython3",
   "version": "3.10.9"
  }
 },
 "nbformat": 4,
 "nbformat_minor": 5
}
